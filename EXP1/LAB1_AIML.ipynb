{
 "cells": [
  {
   "cell_type": "code",
   "execution_count": 13,
   "metadata": {},
   "outputs": [],
   "source": [
    "import pandas as pd\n",
    "import numpy as np\n",
    "specific_hypothesis = []\n",
    "df = pd.read_csv(r\"cars.csv\")"
   ]
  },
  {
   "cell_type": "code",
   "execution_count": 14,
   "metadata": {},
   "outputs": [
    {
     "data": {
      "text/html": [
       "<div>\n",
       "<style scoped>\n",
       "    .dataframe tbody tr th:only-of-type {\n",
       "        vertical-align: middle;\n",
       "    }\n",
       "\n",
       "    .dataframe tbody tr th {\n",
       "        vertical-align: top;\n",
       "    }\n",
       "\n",
       "    .dataframe thead th {\n",
       "        text-align: right;\n",
       "    }\n",
       "</style>\n",
       "<table border=\"1\" class=\"dataframe\">\n",
       "  <thead>\n",
       "    <tr style=\"text-align: right;\">\n",
       "      <th></th>\n",
       "      <th>transmission</th>\n",
       "      <th>engine_fuel</th>\n",
       "      <th>engine_has_gas</th>\n",
       "      <th>has_warranty</th>\n",
       "      <th>state</th>\n",
       "      <th>drivetrain</th>\n",
       "      <th>is_exchangeable</th>\n",
       "    </tr>\n",
       "  </thead>\n",
       "  <tbody>\n",
       "    <tr>\n",
       "      <th>0</th>\n",
       "      <td>mechanical</td>\n",
       "      <td>diesel</td>\n",
       "      <td>YES</td>\n",
       "      <td>NO</td>\n",
       "      <td>owned</td>\n",
       "      <td>front</td>\n",
       "      <td>YES</td>\n",
       "    </tr>\n",
       "    <tr>\n",
       "      <th>1</th>\n",
       "      <td>mechanical</td>\n",
       "      <td>diesel</td>\n",
       "      <td>NO</td>\n",
       "      <td>NO</td>\n",
       "      <td>owned</td>\n",
       "      <td>front</td>\n",
       "      <td>YES</td>\n",
       "    </tr>\n",
       "    <tr>\n",
       "      <th>2</th>\n",
       "      <td>automatic</td>\n",
       "      <td>petrol</td>\n",
       "      <td>NO</td>\n",
       "      <td>NO</td>\n",
       "      <td>owned</td>\n",
       "      <td>all</td>\n",
       "      <td>NO</td>\n",
       "    </tr>\n",
       "    <tr>\n",
       "      <th>3</th>\n",
       "      <td>mechanical</td>\n",
       "      <td>diesel</td>\n",
       "      <td>NO</td>\n",
       "      <td>NO</td>\n",
       "      <td>not-owned</td>\n",
       "      <td>all</td>\n",
       "      <td>YES</td>\n",
       "    </tr>\n",
       "  </tbody>\n",
       "</table>\n",
       "</div>"
      ],
      "text/plain": [
       "  transmission engine_fuel engine_has_gas has_warranty      state drivetrain  \\\n",
       "0   mechanical      diesel            YES           NO      owned      front   \n",
       "1   mechanical      diesel             NO           NO      owned      front   \n",
       "2    automatic      petrol             NO           NO      owned        all   \n",
       "3   mechanical      diesel             NO           NO  not-owned        all   \n",
       "\n",
       "  is_exchangeable  \n",
       "0             YES  \n",
       "1             YES  \n",
       "2              NO  \n",
       "3             YES  "
      ]
     },
     "execution_count": 14,
     "metadata": {},
     "output_type": "execute_result"
    }
   ],
   "source": [
    "df.head()"
   ]
  },
  {
   "cell_type": "code",
   "execution_count": 15,
   "metadata": {},
   "outputs": [
    {
     "name": "stdout",
     "output_type": "stream",
     "text": [
      "Attributes :  [['mechanical' 'diesel' 'YES' 'NO' 'owned' 'front']\n",
      " ['mechanical' 'diesel' 'NO' 'NO' 'owned' 'front']\n",
      " ['automatic' 'petrol' 'NO' 'NO' 'owned' 'all']\n",
      " ['mechanical' 'diesel' 'NO' 'NO' 'not-owned' 'all']]\n",
      "Target :  ['YES' 'YES' 'NO' 'YES']\n"
     ]
    }
   ],
   "source": [
    "attributes = np.array(df)[:,:-1]\n",
    "target = np.array(df)[:,-1]\n",
    "print(\"Attributes : \" , attributes)\n",
    "print(\"Target : \",target)"
   ]
  },
  {
   "cell_type": "code",
   "execution_count": 20,
   "metadata": {},
   "outputs": [
    {
     "name": "stdout",
     "output_type": "stream",
     "text": [
      "The final hypothesis is: ['mechanical' 'diesel' '?' 'NO' '?' '?']\n"
     ]
    }
   ],
   "source": [
    "def train(c,t):\n",
    "    # global specific_hypothesis\n",
    "    for i, val in enumerate(t):\n",
    "        if val == \"YES\":\n",
    "            specific_hypothesis = c[i].copy()\n",
    "            break        \n",
    "    for i, val in enumerate(c):\n",
    "        if t[i] == \"YES\":\n",
    "            for x in range(len(specific_hypothesis)):\n",
    "                if val[x] != specific_hypothesis[x]:\n",
    "                    specific_hypothesis[x] = '?'\n",
    "                else:\n",
    "                    pass             \n",
    "    return specific_hypothesis\n",
    " \n",
    "#obtaining the final hypothesis\n",
    "print(\"The final hypothesis is:\",train(attributes,target))"
   ]
  }
 ],
 "metadata": {
  "kernelspec": {
   "display_name": "Python 3.10.7 64-bit (microsoft store)",
   "language": "python",
   "name": "python3"
  },
  "language_info": {
   "codemirror_mode": {
    "name": "ipython",
    "version": 3
   },
   "file_extension": ".py",
   "mimetype": "text/x-python",
   "name": "python",
   "nbconvert_exporter": "python",
   "pygments_lexer": "ipython3",
   "version": "3.10.7"
  },
  "orig_nbformat": 4,
  "vscode": {
   "interpreter": {
    "hash": "9e35676d33e03a9093a17dc7760f2b2aa4960ff6d3c0d7dc06348afdc0ca22c8"
   }
  }
 },
 "nbformat": 4,
 "nbformat_minor": 2
}
