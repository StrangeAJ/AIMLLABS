{
 "cells": [
  {
   "cell_type": "code",
   "execution_count": 20,
   "id": "8da6b8d4-a591-434e-ab08-beacad040b0b",
   "metadata": {},
   "outputs": [],
   "source": [
    "import numpy as np \n",
    "import pandas as pd"
   ]
  },
  {
   "cell_type": "code",
   "execution_count": 21,
   "id": "2f0c315d-d8e9-4be6-aa65-15c6d6407f5e",
   "metadata": {},
   "outputs": [],
   "source": [
    "data = pd.read_csv('AIML_Lab2.csv')"
   ]
  },
  {
   "cell_type": "code",
   "execution_count": 22,
   "id": "a0bf3690-11e4-4dda-857b-77dfdce93b40",
   "metadata": {},
   "outputs": [
    {
     "name": "stdout",
     "output_type": "stream",
     "text": [
      "\n",
      "Instances are:\n",
      " [['v12' 6 'allseason' 'hatchback' 'standard' 'disc']\n",
      " ['v12' 6 'allseason' 'hatchback' 'standard' 'disc']\n",
      " ['v12' 7 'allseason' 'sedan' 'standard' 'drum']\n",
      " ['v12' 6 'mud' 'hatchback' 'standard' 'disc']\n",
      " ['v12' 7 'allseason' 'coupe' 'convertible' 'disc']]\n",
      "\n",
      "Target Values are:  ['yes' 'yes' 'no' 'yes' 'yes']\n"
     ]
    }
   ],
   "source": [
    "concepts = np.array(data.iloc[:,:-1])\n",
    "print(\"\\nInstances are:\\n\",concepts)\n",
    "target = np.array(data.iloc[:,-1])\n",
    "print(\"\\nTarget Values are: \",target)"
   ]
  },
  {
   "cell_type": "code",
   "execution_count": 23,
   "id": "da4e4552-a238-49fb-bbd3-8f4b96475dcf",
   "metadata": {},
   "outputs": [],
   "source": [
    "def train(concepts, target): \n",
    "    \n",
    "    # Initializing general and specific hypothesis\n",
    "    specific_h = concepts[0].copy()\n",
    "    print(\"\\nInitialization of specific hypothesis and general hypothesis\")\n",
    "    print(\"\\nSpecific Boundary: \", specific_h)\n",
    "    general_h = [[\"?\" for i in range(len(specific_h))] for i in range(len(specific_h))]\n",
    "    print(\"\\nGeneric Boundary: \",general_h)  \n",
    "\n",
    "    \n",
    "    for i, val in enumerate(concepts):\n",
    "        # print(\"\\nInstance\", i+1 , \"is \", val)\n",
    "        #positive example\n",
    "        if target[i] == \"yes\":\n",
    "            # print(\"Instance is Positive \")\n",
    "            for x in range(len(specific_h)): \n",
    "                if val[x]!= specific_h[x]:                    \n",
    "                    specific_h[x] ='?'                     \n",
    "                    general_h[x][x] ='?'\n",
    "        #negative example           \n",
    "        if target[i] == \"no\":            \n",
    "            # print(\"Instance is Negative \")\n",
    "            for x in range(len(specific_h)): \n",
    "                if val[x]!= specific_h[x]:                    \n",
    "                    general_h[x][x] = specific_h[x]                              \n",
    "                else:                    \n",
    "                    general_h[x][x] = '?'        \n",
    "        \n",
    "        # print(\"Specific Bundary after \", i+1, \"Instance is \", specific_h)         \n",
    "        # print(\"Generic Boundary after \", i+1, \"Instance is \", general_h)\n",
    "        # print(\"\\n\")\n",
    "\n",
    "    indices = [i for i, val in enumerate(general_h) if val == ['?', '?', '?', '?', '?', '?']]    \n",
    "    \n",
    "    for i in indices:   \n",
    "        general_h.remove(['?', '?', '?', '?', '?', '?']) \n",
    "    \n",
    "    return specific_h, general_h \n"
   ]
  },
  {
   "cell_type": "code",
   "execution_count": 24,
   "id": "bef52278-8476-4548-9217-4ce36ca7a97a",
   "metadata": {},
   "outputs": [
    {
     "name": "stdout",
     "output_type": "stream",
     "text": [
      "\n",
      "Initialization of specific hypothesis and general hypothesis\n",
      "\n",
      "Specific Boundary:  ['v12' 6 'allseason' 'hatchback' 'standard' 'disc']\n",
      "\n",
      "Generic Boundary:  [['?', '?', '?', '?', '?', '?'], ['?', '?', '?', '?', '?', '?'], ['?', '?', '?', '?', '?', '?'], ['?', '?', '?', '?', '?', '?'], ['?', '?', '?', '?', '?', '?'], ['?', '?', '?', '?', '?', '?']]\n",
      "Final Specific_h: \n",
      "['v12' '?' '?' '?' '?' 'disc']\n",
      "Final General_h: \n",
      "[['?', '?', '?', '?', '?', 'disc']]\n"
     ]
    }
   ],
   "source": [
    "s_final, g_final = train(concepts, target)\n",
    "# displaying Specific_hypothesis\n",
    "print(\"Final Specific_h: \", s_final, sep=\"\\n\")\n",
    "# displaying Generalized_Hypothesis\n",
    "print(\"Final General_h: \", g_final, sep=\"\\n\")"
   ]
  },
  {
   "cell_type": "code",
   "execution_count": null,
   "id": "b2e9d700-3d39-4d39-9f5f-f7eb79211262",
   "metadata": {},
   "outputs": [],
   "source": []
  }
 ],
 "metadata": {
  "kernelspec": {
   "display_name": "Python 3.10.6 64-bit",
   "language": "python",
   "name": "python3"
  },
  "language_info": {
   "codemirror_mode": {
    "name": "ipython",
    "version": 3
   },
   "file_extension": ".py",
   "mimetype": "text/x-python",
   "name": "python",
   "nbconvert_exporter": "python",
   "pygments_lexer": "ipython3",
   "version": "3.10.6"
  },
  "vscode": {
   "interpreter": {
    "hash": "76d7c06053c3456e5600312cec90888656fc0ed30c03d8425b9dac6e4fc8e014"
   }
  }
 },
 "nbformat": 4,
 "nbformat_minor": 5
}
